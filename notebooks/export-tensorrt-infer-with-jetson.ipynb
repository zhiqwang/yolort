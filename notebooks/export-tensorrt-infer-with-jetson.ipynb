{
 "cells": [
  {
   "cell_type": "markdown",
   "id": "b2a3443d-5566-4311-9c8d-73821ed2443a",
   "metadata": {},
   "source": [
    "# 在 jetson nano 和 jetson agx 上利用 tensorrt 加速推理"
   ]
  },
  {
   "cell_type": "code",
   "execution_count": null,
   "id": "8b216db2-b9a3-4487-bd44-080d5e5f27f9",
   "metadata": {},
   "outputs": [],
   "source": []
  }
 ],
 "metadata": {
  "kernelspec": {
   "display_name": "Python [conda env:torch]",
   "language": "python",
   "name": "conda-env-torch-py"
  },
  "language_info": {
   "codemirror_mode": {
    "name": "ipython",
    "version": 3
   },
   "file_extension": ".py",
   "mimetype": "text/x-python",
   "name": "python",
   "nbconvert_exporter": "python",
   "pygments_lexer": "ipython3",
   "version": "3.8.12"
  }
 },
 "nbformat": 4,
 "nbformat_minor": 5
}
