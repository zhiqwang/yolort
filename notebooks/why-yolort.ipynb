{
 "cells": [
  {
   "cell_type": "markdown",
   "id": "644c140f-2652-485e-9518-ef71979aa5ba",
   "metadata": {
    "tags": []
   },
   "source": [
    "# Why yolort?\n",
    "\n",
    "- TorchVision coding style, easy to understand, easy to adapt at will.\n",
    "- Seamlessly load the official YOLOv5 trained checkpoints, ensuring consistency with the YOLOv5 structure.\n",
    "- Full unit testing.\n",
    "- Deployment-friendly, TensorRT / ONNX Runtime / LibTorch / ncnn multi-backend support."
   ]
  },
  {
   "cell_type": "markdown",
   "id": "b8434038-ab2d-45b0-9127-aace904f8d65",
   "metadata": {},
   "source": [
    "## Install yolort from PyPI"
   ]
  },
  {
   "cell_type": "code",
   "execution_count": 1,
   "id": "6b0a8728-9f8d-4392-896d-1a7b04eb443d",
   "metadata": {},
   "outputs": [
    {
     "name": "stdout",
     "output_type": "stream",
     "text": [
      "Note: you may need to restart the kernel to use updated packages.\n"
     ]
    }
   ],
   "source": [
    "%pip install -q yolort"
   ]
  },
  {
   "cell_type": "code",
   "execution_count": 2,
   "id": "a94f11b1-c14c-4f85-b5ba-940d706e6c41",
   "metadata": {},
   "outputs": [],
   "source": [
    "from typing import List\n",
    "\n",
    "import torch\n",
    "from torch import nn, Tensor"
   ]
  },
  {
   "cell_type": "markdown",
   "id": "3c4b7d37-f0e4-45a0-a532-9effefdaa1bc",
   "metadata": {
    "tags": []
   },
   "source": [
    "## Part of the code details\n",
    "\n",
    "1. [LetterBox](https://github.com/zhiqwang/yolort/blob/7cdef76166b2497abf626d12ca74f2c4401f80e2/yolort/models/transform.py#L112) is implemented using PyTorch native operators, via `torch.nn.functional.interpolate` and `torch.nn.functional.pad` operators.\n",
    "1. Easily exported to TorchScript and ONNX formats.\n",
    "1. P5/P6-compatible [PathAggregationNetwork](https://github.com/zhiqwang/yolort/blob/7cdef76166b2497abf626d12ca74f2c4401f80e2/yolort/models/path_aggregation_network.py#L44) implementation, which fully captures the symmetry in the PAN structure.\n",
    "1. Minimalist implementation of [PostProcess](https://github.com/zhiqwang/yolort/blob/7cdef76166b2497abf626d12ca74f2c4401f80e2/yolort/models/box_head.py#L360)."
   ]
  },
  {
   "cell_type": "markdown",
   "id": "a3f3b16f-d0f7-4bc1-aaa5-cf87a5cd231b",
   "metadata": {
    "tags": []
   },
   "source": [
    "### Compatible with YOLOv5 original model structure"
   ]
  },
  {
   "cell_type": "code",
   "execution_count": 3,
   "id": "58e86f45-d2e3-4df0-a503-ed597d22311b",
   "metadata": {},
   "outputs": [],
   "source": [
    "from yolort.v5 import attempt_download\n",
    "from yolort.models._checkpoint import load_from_ultralytics\n",
    "\n",
    "# yolov5s6.pt is downloaded from 'https://github.com/ultralytics/yolov5/releases/download/v6.1/yolov5s6.pt'\n",
    "model_path = \"yolov5s6.pt\"\n",
    "\n",
    "checkpoint_path = attempt_download(model_path)\n",
    "version = \"r6.0\"\n",
    "\n",
    "model_info = load_from_ultralytics(checkpoint_path, version=version)"
   ]
  },
  {
   "cell_type": "markdown",
   "id": "ed006adf-a65e-4ac6-bc9e-cbafd47d745b",
   "metadata": {},
   "source": [
    "### Obtain Backbone"
   ]
  },
  {
   "cell_type": "code",
   "execution_count": 4,
   "id": "74dd56f6-6762-4df9-8046-bdc71419f393",
   "metadata": {},
   "outputs": [],
   "source": [
    "from yolort.models.backbone_utils import darknet_pan_backbone\n",
    "\n",
    "backbone_name = f\"darknet_{model_info['size']}_{version.replace('.', '_')}\"\n",
    "depth_multiple = model_info[\"depth_multiple\"]\n",
    "width_multiple = model_info[\"width_multiple\"]\n",
    "use_p6 = model_info[\"use_p6\"]\n",
    "backbone = darknet_pan_backbone(backbone_name, depth_multiple, width_multiple, version=version, use_p6=use_p6)"
   ]
  },
  {
   "cell_type": "markdown",
   "id": "7d60db84-4308-47af-8b1f-6171442b4916",
   "metadata": {},
   "source": [
    "### Obtain full YOLOv5 model structure"
   ]
  },
  {
   "cell_type": "code",
   "execution_count": 5,
   "id": "86f63b60-8bd4-4d9e-8c48-7bc7157ebefa",
   "metadata": {},
   "outputs": [],
   "source": [
    "from yolort.models.box_head import YOLOHead\n",
    "\n",
    "class YOLO(nn.Module):\n",
    "    def __init__(self, backbone: nn.Module, strides, num_anchors, num_classes: int):\n",
    "        super().__init__()\n",
    "        self.backbone = backbone\n",
    "        self.head = YOLOHead(backbone.out_channels, num_anchors, strides, num_classes)\n",
    "\n",
    "    def forward(self, samples: Tensor) -> List[Tensor]:\n",
    "\n",
    "        # get the features from the backbone\n",
    "        features = self.backbone(samples)\n",
    "\n",
    "        # compute the yolo heads outputs using the features\n",
    "        head_outputs = self.head(features)\n",
    "        return head_outputs"
   ]
  },
  {
   "cell_type": "code",
   "execution_count": 6,
   "id": "60b0b2bc-568d-4727-9fb2-1ccc69f93da2",
   "metadata": {},
   "outputs": [],
   "source": [
    "strides = model_info[\"strides\"]\n",
    "num_anchors = len(model_info[\"anchor_grids\"][0]) // 2 \n",
    "num_classes = model_info[\"num_classes\"]\n",
    "model = YOLO(backbone, strides, num_anchors, num_classes)\n",
    "\n",
    "model.load_state_dict(model_info[\"state_dict\"])\n",
    "\n",
    "model = model.eval()"
   ]
  },
  {
   "cell_type": "code",
   "execution_count": 7,
   "id": "2764ea77-04fb-41b5-a1d3-5d4728cc5be6",
   "metadata": {},
   "outputs": [],
   "source": [
    "inputs = torch.rand(1, 3, 640, 640)\n",
    "\n",
    "outs = model(inputs)"
   ]
  },
  {
   "cell_type": "markdown",
   "id": "84dbe752-84b5-4c6a-b441-917197cb497c",
   "metadata": {},
   "source": [
    "### Functional deployment support solutions"
   ]
  },
  {
   "cell_type": "code",
   "execution_count": 8,
   "id": "2f01da66-fdff-4a0a-89df-ed29d3aacf6f",
   "metadata": {},
   "outputs": [],
   "source": [
    "fx_trace_model = torch.fx.symbolic_trace(model)"
   ]
  },
  {
   "cell_type": "code",
   "execution_count": 9,
   "id": "e7ab3576-1bdd-4744-95cd-f65a56cc7131",
   "metadata": {},
   "outputs": [],
   "source": [
    "jit_trace_model = torch.jit.script(model)"
   ]
  }
 ],
 "metadata": {
  "kernelspec": {
   "display_name": "Python 3 (ipykernel)",
   "language": "python",
   "name": "python3"
  },
  "language_info": {
   "codemirror_mode": {
    "name": "ipython",
    "version": 3
   },
   "file_extension": ".py",
   "mimetype": "text/x-python",
   "name": "python",
   "nbconvert_exporter": "python",
   "pygments_lexer": "ipython3",
   "version": "3.9.13"
  }
 },
 "nbformat": 4,
 "nbformat_minor": 5
}
