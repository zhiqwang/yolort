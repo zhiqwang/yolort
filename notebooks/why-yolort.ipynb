{
 "cells": [
  {
   "cell_type": "markdown",
   "id": "644c140f-2652-485e-9518-ef71979aa5ba",
   "metadata": {
    "tags": []
   },
   "source": [
    "# Why yolort?\n",
    "\n",
    "- TorchVision 风格代码，容易理解，方便魔改。\n",
    "- 无缝 load YOLOv5 官方训练好的 checkpoints, 保证跟 YOLOv5 结构一致.\n",
    "- 充分的单元测试.\n",
    "- 部署友好, TensorRT / ONNX Runtime / LibTorch / ncnn 多后端支持。"
   ]
  },
  {
   "cell_type": "markdown",
   "id": "b8434038-ab2d-45b0-9127-aace904f8d65",
   "metadata": {},
   "source": [
    "## 安装 yolort"
   ]
  },
  {
   "cell_type": "code",
   "execution_count": 1,
   "id": "6b0a8728-9f8d-4392-896d-1a7b04eb443d",
   "metadata": {},
   "outputs": [
    {
     "name": "stdout",
     "output_type": "stream",
     "text": [
      "Note: you may need to restart the kernel to use updated packages.\n"
     ]
    }
   ],
   "source": [
    "%pip install -q yolort"
   ]
  },
  {
   "cell_type": "code",
   "execution_count": 2,
   "id": "a94f11b1-c14c-4f85-b5ba-940d706e6c41",
   "metadata": {},
   "outputs": [],
   "source": [
    "from typing import List\n",
    "\n",
    "import torch\n",
    "from torch import nn, Tensor"
   ]
  },
  {
   "cell_type": "markdown",
   "id": "3c4b7d37-f0e4-45a0-a532-9effefdaa1bc",
   "metadata": {
    "tags": []
   },
   "source": [
    "## 部分代码细节\n",
    "1. [LetterBox](https://github.com/zhiqwang/yolov5-rt-stack/blob/7cdef76166b2497abf626d12ca74f2c4401f80e2/yolort/models/transform.py#L112) 使用 PyTorch 原生算子实现，通过 `torch.nn.functional.interpolate` 和 `pad` 算子实现。方便导出到 TorchScript 及 ONNX 等格式。\n",
    "1. 兼容 P5/P6 的 [PathAggregationNetwork](https://github.com/zhiqwang/yolov5-rt-stack/blob/7cdef76166b2497abf626d12ca74f2c4401f80e2/yolort/models/path_aggregation_network.py#L44) 实现，充分体现出 PAN 结构中的对称性。\n",
    "1. 极简实现的后处理 [PostProcess](https://github.com/zhiqwang/yolov5-rt-stack/blob/7cdef76166b2497abf626d12ca74f2c4401f80e2/yolort/models/box_head.py#L360)."
   ]
  },
  {
   "cell_type": "markdown",
   "id": "a3f3b16f-d0f7-4bc1-aaa5-cf87a5cd231b",
   "metadata": {
    "tags": []
   },
   "source": [
    "### 兼容 YOLOv5 原版网络结构"
   ]
  },
  {
   "cell_type": "code",
   "execution_count": 3,
   "id": "58e86f45-d2e3-4df0-a503-ed597d22311b",
   "metadata": {},
   "outputs": [],
   "source": [
    "from yolort.v5 import attempt_download\n",
    "from yolort.models._checkpoint import load_from_ultralytics\n",
    "\n",
    "# yolov5s6.pt is downloaded from 'https://github.com/ultralytics/yolov5/releases/download/v6.1/yolov5s6.pt'\n",
    "model_path = \"yolov5s6.pt\"\n",
    "\n",
    "checkpoint_path = attempt_download(model_path)\n",
    "version = \"r6.0\"\n",
    "\n",
    "model_info = load_from_ultralytics(checkpoint_path, version=version)"
   ]
  },
  {
   "cell_type": "markdown",
   "id": "ed006adf-a65e-4ac6-bc9e-cbafd47d745b",
   "metadata": {},
   "source": [
    "### 获取 Backbone"
   ]
  },
  {
   "cell_type": "code",
   "execution_count": 4,
   "id": "74dd56f6-6762-4df9-8046-bdc71419f393",
   "metadata": {},
   "outputs": [],
   "source": [
    "from yolort.models.backbone_utils import darknet_pan_backbone\n",
    "\n",
    "backbone_name = f\"darknet_{model_info['size']}_{version.replace('.', '_')}\"\n",
    "depth_multiple = model_info[\"depth_multiple\"]\n",
    "width_multiple = model_info[\"width_multiple\"]\n",
    "use_p6 = model_info[\"use_p6\"]\n",
    "backbone = darknet_pan_backbone(backbone_name, depth_multiple, width_multiple, version=version, use_p6=use_p6)"
   ]
  },
  {
   "cell_type": "markdown",
   "id": "7d60db84-4308-47af-8b1f-6171442b4916",
   "metadata": {},
   "source": [
    "### 获取完整的 YOLOv5 网络结构"
   ]
  },
  {
   "cell_type": "code",
   "execution_count": 5,
   "id": "86f63b60-8bd4-4d9e-8c48-7bc7157ebefa",
   "metadata": {},
   "outputs": [],
   "source": [
    "from yolort.models.box_head import YOLOHead\n",
    "\n",
    "class YOLO(nn.Module):\n",
    "    def __init__(self, backbone: nn.Module, strides, num_anchors, num_classes: int):\n",
    "        super().__init__()\n",
    "        self.backbone = backbone\n",
    "        self.head = YOLOHead(backbone.out_channels, num_anchors, strides, num_classes)\n",
    "\n",
    "    def forward(self, samples: Tensor) -> List[Tensor]:\n",
    "\n",
    "        # get the features from the backbone\n",
    "        features = self.backbone(samples)\n",
    "\n",
    "        # compute the yolo heads outputs using the features\n",
    "        head_outputs = self.head(features)\n",
    "        return head_outputs"
   ]
  },
  {
   "cell_type": "code",
   "execution_count": 6,
   "id": "60b0b2bc-568d-4727-9fb2-1ccc69f93da2",
   "metadata": {},
   "outputs": [],
   "source": [
    "strides = model_info[\"strides\"]\n",
    "num_anchors = len(model_info[\"anchor_grids\"][0]) // 2 \n",
    "num_classes = model_info[\"num_classes\"]\n",
    "model = YOLO(backbone, strides, num_anchors, num_classes)\n",
    "\n",
    "model.load_state_dict(model_info[\"state_dict\"])\n",
    "\n",
    "model = model.eval()"
   ]
  },
  {
   "cell_type": "code",
   "execution_count": 7,
   "id": "2764ea77-04fb-41b5-a1d3-5d4728cc5be6",
   "metadata": {},
   "outputs": [],
   "source": [
    "inputs = torch.rand(1, 3, 640, 640)\n",
    "\n",
    "outs = model(inputs)"
   ]
  },
  {
   "cell_type": "markdown",
   "id": "84dbe752-84b5-4c6a-b441-917197cb497c",
   "metadata": {},
   "source": [
    "### 完整的部署支持方案"
   ]
  },
  {
   "cell_type": "code",
   "execution_count": 8,
   "id": "3d293cdf-7dc0-4e76-8794-259b37cc7bfb",
   "metadata": {},
   "outputs": [],
   "source": [
    "from torch.fx import symbolic_trace"
   ]
  },
  {
   "cell_type": "code",
   "execution_count": 9,
   "id": "2f01da66-fdff-4a0a-89df-ed29d3aacf6f",
   "metadata": {},
   "outputs": [],
   "source": [
    "model_traced = symbolic_trace(model)"
   ]
  }
 ],
 "metadata": {
  "kernelspec": {
   "display_name": "Python 3 (ipykernel)",
   "language": "python",
   "name": "python3"
  },
  "language_info": {
   "codemirror_mode": {
    "name": "ipython",
    "version": 3
   },
   "file_extension": ".py",
   "mimetype": "text/x-python",
   "name": "python",
   "nbconvert_exporter": "python",
   "pygments_lexer": "ipython3",
   "version": "3.9.13"
  }
 },
 "nbformat": 4,
 "nbformat_minor": 5
}
